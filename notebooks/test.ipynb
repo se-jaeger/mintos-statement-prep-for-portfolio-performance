{
 "cells": [
  {
   "cell_type": "code",
   "execution_count": 11,
   "metadata": {},
   "outputs": [],
   "source": [
    "from datetime import datetime\n",
    "from pathlib import Path\n",
    "\n",
    "import pandas as pd"
   ]
  },
  {
   "cell_type": "code",
   "execution_count": 23,
   "metadata": {},
   "outputs": [],
   "source": [
    "data_path = Path(\"../data\")\n",
    "\n",
    "columns_of_interest = [\"Datum\", \"Typ\", \"Wert\", \"Buchungswährung\"]\n",
    "how_many_types_expected = 5\n",
    "\n",
    "type_mapping = {\n",
    "    # Map Mintos types to Portfolio Performance types\n",
    "    \"Tilgungszahlungen\": None,\n",
    "    \"Zinszahlungen\": \"Zinsen\",\n",
    "    \"Erhaltene Zinsen aus Kreditrückkauf\": \"Zinsen\",\n",
    "    \"Zinseinnahmen aus Kreditrückkauf\": \"Zinsen\",\n",
    "    \"Erhaltene Zinsen\": \"Zinsen\",\n",
    "    \"Erhaltene Tilgung aus Kreditrückkauf\": None,\n",
    "    \"Übertragungsabgleich der Verzugszinseinnahmen\": \"Zinsen\",\n",
    "    \"Investitionen in Darlehen\": None,\n",
    "    \"Investition\": None,\n",
    "    \"Zinseinnahmen aus ausstehenden Zahlungen\": \"Zinsen\",\n",
    "    \"Steuereinbehalt\": \"Steuern\",\n",
    "    \"Erhaltene Tilgung aus Rückkauf kleiner Kreditteile\": None,\n",
    "    \"Erhaltene Tilgung\": None,\n",
    "    \"Zweitmarkt-Transaktion – Ab- oder Aufschlag\": \"Zinsen\",  # noqa: RUF001\n",
    "    \"Zweitmarkt-Transaktion\": None,\n",
    "    \"Zweitmarktgebühr\": \"Gebühren\",\n",
    "    \"Einzahlungen\": \"Einlage\",\n",
    "    \"Abhebung\": \"Entnahme\",\n",
    "    \"Antrag auf Beitrag/Spende\": \"Gebühren\",\n",
    "}"
   ]
  },
  {
   "cell_type": "code",
   "execution_count": 24,
   "metadata": {},
   "outputs": [
    {
     "data": {
      "text/plain": [
       "['20240508-account-statement.csv',\n",
       " '20240809-account-statement.csv',\n",
       " '2020-account-statement.csv',\n",
       " '20241114-account-statement.csv',\n",
       " '2022-account-statement.csv',\n",
       " '20240611-account-statement.csv',\n",
       " '2021-account-statement.csv',\n",
       " '2023-account-statement.csv']"
      ]
     },
     "execution_count": 24,
     "metadata": {},
     "output_type": "execute_result"
    }
   ],
   "source": [
    "statement_files = list(data_path.glob(\"*.csv\"))\n",
    "\n",
    "[x.name for x in statement_files]"
   ]
  },
  {
   "cell_type": "code",
   "execution_count": 25,
   "metadata": {},
   "outputs": [],
   "source": [
    "data = (\n",
    "    pd.concat([pd.read_csv(x) for x in list(data_path.glob(\"*.csv\"))])\n",
    "    .convert_dtypes()\n",
    "    .assign(\n",
    "        Datum=lambda df: pd.to_datetime(df[\"Datum\"]).dt.date,\n",
    "        Typ=lambda df: df[\"Zahlungsart\"].replace(type_mapping),\n",
    "        Wert=lambda df: df.groupby([df[\"Datum\"], \"Typ\"])[\"Umsatz\"].transform(\"sum\").round(5),\n",
    "    )\n",
    "    .rename(columns={\"Währung\": \"Buchungswährung\"})\n",
    "    .dropna(subset=\"Typ\")\n",
    "    .drop_duplicates(columns_of_interest)\n",
    ")"
   ]
  },
  {
   "cell_type": "code",
   "execution_count": null,
   "metadata": {},
   "outputs": [],
   "source": []
  },
  {
   "cell_type": "code",
   "execution_count": 26,
   "metadata": {},
   "outputs": [],
   "source": [
    "if len(data[\"Typ\"].unique().tolist()) != how_many_types_expected:\n",
    "    raise Exception(f\"Expecting {how_many_types_expected} distinct values here..\")\n"
   ]
  },
  {
   "cell_type": "code",
   "execution_count": 27,
   "metadata": {},
   "outputs": [
    {
     "data": {
      "text/plain": [
       "['Zinsen', 'Steuern', 'Entnahme', 'Einlage', 'Gebühren']"
      ]
     },
     "execution_count": 27,
     "metadata": {},
     "output_type": "execute_result"
    }
   ],
   "source": [
    "data[\"Typ\"].unique().tolist()"
   ]
  },
  {
   "cell_type": "code",
   "execution_count": 17,
   "metadata": {},
   "outputs": [],
   "source": [
    "output_file_name = data_path / \"output\" / f\"{datetime.now().strftime('%Y-%m-%d')}.csv\"\n",
    "\n",
    "if not output_file_name.parent.exists():\n",
    "    output_file_name.parent.mkdir()\n",
    "\n",
    "\n",
    "data[columns_of_interest].to_csv(\n",
    "    output_file_name,\n",
    "    index=False,\n",
    "    sep=\";\",\n",
    "    decimal=\",\",\n",
    ")"
   ]
  },
  {
   "cell_type": "code",
   "execution_count": null,
   "metadata": {},
   "outputs": [],
   "source": []
  }
 ],
 "metadata": {
  "kernelspec": {
   "display_name": "Python 3 (ipykernel)",
   "language": "python",
   "name": "python3"
  },
  "language_info": {
   "codemirror_mode": {
    "name": "ipython",
    "version": 3
   },
   "file_extension": ".py",
   "mimetype": "text/x-python",
   "name": "python",
   "nbconvert_exporter": "python",
   "pygments_lexer": "ipython3",
   "version": "3.10.15"
  }
 },
 "nbformat": 4,
 "nbformat_minor": 4
}
