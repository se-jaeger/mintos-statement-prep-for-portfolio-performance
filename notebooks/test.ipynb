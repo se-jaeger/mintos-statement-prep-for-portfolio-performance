{
 "cells": [
  {
   "cell_type": "code",
   "execution_count": null,
   "metadata": {},
   "outputs": [],
   "source": [
    "from datetime import datetime\n",
    "from pathlib import Path\n",
    "\n",
    "import pandas as pd"
   ]
  },
  {
   "cell_type": "code",
   "execution_count": null,
   "metadata": {},
   "outputs": [],
   "source": [
    "data_path = Path(\"../data\")\n",
    "\n",
    "columns_of_interest = [\"Datum\", \"Typ\", \"Wert\", \"Buchungswährung\"]\n",
    "how_many_types_expected = 5\n",
    "\n",
    "type_mapping = {\n",
    "    # Map Mintos types to Portfolio Performance types\n",
    "    \"Tilgungszahlungen\": None,\n",
    "    \"Zinszahlungen\": \"Zinsen\",\n",
    "    \"Erhaltene Zinsen aus Kreditrückkauf\": \"Zinsen\",\n",
    "    \"Erhaltene Tilgung aus Kreditrückkauf\": None,\n",
    "    \"Übertragungsabgleich der Verzugszinseinnahmen\": \"Zinsen\",\n",
    "    \"Investitionen in Darlehen\": None,\n",
    "    \"Zinseinnahmen aus ausstehenden Zahlungen\": \"Zinsen\",\n",
    "    \"Steuereinbehalt\": \"Steuern\",\n",
    "    \"Erhaltene Tilgung aus Rückkauf kleiner Kreditteile\": None,\n",
    "    \"Zweitmarkt-Transaktion – Ab- oder Aufschlag\": \"Zinsen\",  # noqa: RUF001\n",
    "    \"Zweitmarkt-Transaktion\": None,\n",
    "    \"Zweitmarktgebühr\": \"Gebühren\",\n",
    "    \"Einzahlungen\": \"Einlage\",\n",
    "    \"Abhebung\": \"Entnahme\",\n",
    "}"
   ]
  },
  {
   "cell_type": "code",
   "execution_count": null,
   "metadata": {},
   "outputs": [],
   "source": [
    "statement_files = list(data_path.glob(\"*.csv\"))\n",
    "\n",
    "[x.name for x in statement_files]"
   ]
  },
  {
   "cell_type": "code",
   "execution_count": null,
   "metadata": {},
   "outputs": [],
   "source": [
    "data = (\n",
    "    pd.concat([pd.read_csv(x) for x in list(data_path.glob(\"*.csv\"))])\n",
    "    .convert_dtypes()\n",
    "    .assign(\n",
    "        Datum=lambda df: pd.to_datetime(df[\"Datum\"]).dt.date,\n",
    "        Typ=lambda df: df[\"Zahlungsart\"].replace(type_mapping),\n",
    "        Wert=lambda df: df.groupby([df[\"Datum\"], \"Typ\"])[\"Umsatz\"].transform(\"sum\").round(5),\n",
    "    )\n",
    "    .rename(columns={\"Währung\": \"Buchungswährung\"})\n",
    "    .dropna(subset=\"Typ\")\n",
    "    .drop_duplicates(columns_of_interest)\n",
    ")"
   ]
  },
  {
   "cell_type": "code",
   "execution_count": null,
   "metadata": {},
   "outputs": [],
   "source": []
  },
  {
   "cell_type": "code",
   "execution_count": null,
   "metadata": {},
   "outputs": [],
   "source": [
    "if len(data[\"Typ\"].unique().tolist()) != how_many_types_expected:\n",
    "    raise Exception(f\"Expecting {how_many_types_expected} distinct values here..\")\n",
    "\n",
    "\n",
    "data[\"Typ\"].unique().tolist()"
   ]
  },
  {
   "cell_type": "code",
   "execution_count": null,
   "metadata": {},
   "outputs": [],
   "source": [
    "data[columns_of_interest].to_csv(\n",
    "    data_path / f\"{datetime.now().strftime('%Y-%m-%d')}.csv\",\n",
    "    index=False,\n",
    "    sep=\";\",\n",
    "    decimal=\",\",\n",
    ")"
   ]
  }
 ],
 "metadata": {
  "kernelspec": {
   "display_name": "portfolio-performance-mintos-7Fsemns5-py3.10",
   "language": "python",
   "name": "python3"
  },
  "language_info": {
   "codemirror_mode": {
    "name": "ipython",
    "version": 3
   },
   "file_extension": ".py",
   "mimetype": "text/x-python",
   "name": "python",
   "nbconvert_exporter": "python",
   "pygments_lexer": "ipython3",
   "version": "3.10.13"
  }
 },
 "nbformat": 4,
 "nbformat_minor": 2
}
